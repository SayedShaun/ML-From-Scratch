{
 "cells": [
  {
   "cell_type": "code",
   "execution_count": 311,
   "metadata": {},
   "outputs": [],
   "source": [
    "import numpy as np\n",
    "import matplotlib.pyplot as plt\n",
    "from sklearn.datasets import load_iris\n",
    "from sklearn.metrics import silhouette_score\n",
    "X, y = load_iris(return_X_y=True)"
   ]
  },
  {
   "cell_type": "code",
   "execution_count": 367,
   "metadata": {},
   "outputs": [
    {
     "data": {
      "text/plain": [
       "0.5528190123564095"
      ]
     },
     "execution_count": 367,
     "metadata": {},
     "output_type": "execute_result"
    }
   ],
   "source": [
    "class KMeans:\n",
    "    def __init__(self, n_clusters:int, n_iters:int)->None:\n",
    "        self.n_clusters = n_clusters\n",
    "        self.n_iters = n_iters\n",
    "    \n",
    "    def fit_predict(self, X:np.ndarray)->np.ndarray:\n",
    "        rand_idx = np.random.randint(0, X.shape[0], (self.n_clusters))\n",
    "        centroids = X[rand_idx]\n",
    "\n",
    "        for _ in range(self.n_iters):\n",
    "            distance = np.linalg.norm(X.reshape(X.shape[0], 1, X.shape[1]) - centroids, axis=2)\n",
    "            labels = distance.argmin(axis=1)\n",
    "            centroids = [X[labels==k].mean(axis=0) for k in range(self.n_clusters)]\n",
    "        return labels\n",
    "\n",
    "y_pred = KMeans(n_clusters=3, n_iters=1000).fit_predict(X)\n",
    "silhouette_score(X, y_pred)"
   ]
  },
  {
   "cell_type": "code",
   "execution_count": 360,
   "metadata": {},
   "outputs": [
    {
     "data": {
      "text/plain": [
       "0.551191604619592"
      ]
     },
     "execution_count": 360,
     "metadata": {},
     "output_type": "execute_result"
    }
   ],
   "source": [
    "from sklearn.metrics import pairwise_distances\n",
    "\n",
    "class KMeans:\n",
    "    def __init__(self, n_clusters:int, n_iters:int)->None:\n",
    "        self.n_clusters = n_clusters\n",
    "        self.n_iters = n_iters\n",
    "    \n",
    "    def fit_predict(self, X:np.ndarray)->np.ndarray:\n",
    "        rand_idx = np.random.randint(0, X.shape[0], (self.n_clusters))\n",
    "        centroids = X[rand_idx]\n",
    "\n",
    "        for _ in range(self.n_iters):\n",
    "            distance = pairwise_distances(X, centroids)\n",
    "            labels = distance.argmin(axis=1)\n",
    "            \n",
    "            new_centroids = []\n",
    "            for k in range(self.n_clusters):\n",
    "                new_centroids.append(X[labels==k].mean(axis=0))\n",
    "            centroids = new_centroids\n",
    "\n",
    "        return labels\n",
    "\n",
    "y_pred = KMeans(n_clusters=3, n_iters=100).fit_predict(X)\n",
    "silhouette_score(X, y_pred)"
   ]
  }
 ],
 "metadata": {
  "kernelspec": {
   "display_name": "ml",
   "language": "python",
   "name": "python3"
  },
  "language_info": {
   "codemirror_mode": {
    "name": "ipython",
    "version": 3
   },
   "file_extension": ".py",
   "mimetype": "text/x-python",
   "name": "python",
   "nbconvert_exporter": "python",
   "pygments_lexer": "ipython3",
   "version": "3.10.13"
  }
 },
 "nbformat": 4,
 "nbformat_minor": 2
}
