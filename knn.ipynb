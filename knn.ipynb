{
 "cells": [
  {
   "cell_type": "code",
   "execution_count": 1,
   "metadata": {},
   "outputs": [
    {
     "data": {
      "text/plain": [
       "0.9666666666666667"
      ]
     },
     "execution_count": 1,
     "metadata": {},
     "output_type": "execute_result"
    }
   ],
   "source": [
    "from sklearn.datasets import load_iris\n",
    "X, y = load_iris(return_X_y=True)\n",
    "from sklearn.model_selection import train_test_split\n",
    "X_train, X_test, y_train, y_test = train_test_split(X, y, test_size=0.2)\n",
    "\n",
    "\n",
    "import numpy as np\n",
    "from collections import Counter\n",
    "class KNN:\n",
    "    def __init__(self, k, distance_metric=\"euclidean\"):\n",
    "        self.k = k\n",
    "        self.distance_metric = distance_metric\n",
    "        self.X_train = None\n",
    "        self.y_train = None\n",
    "\n",
    "    def fit(self, X: np.ndarray, y: np.ndarray):\n",
    "        self.X_train = X\n",
    "        self.y_train = y\n",
    "\n",
    "    def predict(self, X: np.ndarray) -> np.ndarray:    \n",
    "        y_pred = [self._predict(x) for x in X]\n",
    "        return np.array(y_pred)\n",
    "\n",
    "    def _distance(self, x1: np.ndarray, x2: np.ndarray) -> float:\n",
    "        if self.distance_metric == \"euclidean\":\n",
    "            return np.sqrt(np.sum((x1 - x2) ** 2))\n",
    "        elif self.distance_metric == \"manhattan\":\n",
    "            return np.sum(np.abs(x1 - x2))\n",
    "        else:\n",
    "            raise ValueError(\"Invalid distance metric\")\n",
    "\n",
    "    def _predict(self, x: np.ndarray) -> int:\n",
    "        distances = [self._distance(x, x_train) for x_train in self.X_train]\n",
    "        k_idx = np.argsort(distances)[: self.k]\n",
    "        k_labels = [self.y_train[i] for i in k_idx]\n",
    "        most_common = Counter(k_labels).most_common()\n",
    "        return most_common[0][0]\n",
    "    \n",
    "    def fit_predict(self, X: np.ndarray, y: np.ndarray) -> np.ndarray:\n",
    "        self.fit(X, y)\n",
    "        return self.predict(X)\n",
    "    \n",
    "\n",
    "knn = KNN(k=3, distance_metric=\"manhattan\")\n",
    "knn.fit(X_train, y_train)\n",
    "predictions = knn.predict(X_test)\n",
    "from sklearn.metrics import accuracy_score\n",
    "accuracy_score(y_test, predictions)"
   ]
  },
  {
   "cell_type": "code",
   "execution_count": 2,
   "metadata": {},
   "outputs": [
    {
     "data": {
      "image/png": "[encoded data removed]",
      "text/plain": [
       "<Figure size 600x400 with 1 Axes>"
      ]
     },
     "metadata": {},
     "output_type": "display_data"
    }
   ],
   "source": [
    "# Plot decision boundary\n",
    "from sklearn.decomposition import PCA\n",
    "from mlxtend.plotting import plot_decision_regions\n",
    "import matplotlib.pyplot as plt\n",
    "\n",
    "# Fit PCA on the training data\n",
    "pca = PCA(n_components=2)\n",
    "X_pca_train = pca.fit_transform(X_train)\n",
    "X_pca_test = pca.transform(X_test)\n",
    "\n",
    "# Train the model with PCA-reduced training data\n",
    "model = KNN(k=3, distance_metric=\"manhattan\")\n",
    "model.fit(X_pca_train, y_train)\n",
    "\n",
    "# Plot decision regions with PCA-reduced test data\n",
    "plt.figure(figsize=(6, 4))\n",
    "plot_decision_regions(X_pca_test, y_test, clf=model, legend=2)\n",
    "plt.axis('off')\n",
    "plt.title('Decision Boundary')\n",
    "plt.show()"
   ]
  }
 ],
 "metadata": {
  "kernelspec": {
   "display_name": "ml",
   "language": "python",
   "name": "python3"
  },
  "language_info": {
   "codemirror_mode": {
    "name": "ipython",
    "version": 3
   },
   "file_extension": ".py",
   "mimetype": "text/x-python",
   "name": "python",
   "nbconvert_exporter": "python",
   "pygments_lexer": "ipython3",
   "version": "3.10.14"
  }
 },
 "nbformat": 4,
 "nbformat_minor": 2
}
