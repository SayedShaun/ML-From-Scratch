{
  "nbformat": 4,
  "nbformat_minor": 0,
  "metadata": {
    "colab": {
      "provenance": [],
      "authorship_tag": "ABX9TyMaJlrbpSwds0L2HQzbgIoQ",
      "include_colab_link": true
    },
    "kernelspec": {
      "name": "python3",
      "display_name": "Python 3"
    },
    "language_info": {
      "name": "python"
    }
  },
  "cells": [
    {
      "cell_type": "markdown",
      "metadata": {
        "id": "view-in-github",
        "colab_type": "text"
      },
      "source": [
        "<a href=\"https://colab.research.google.com/github/SayedShaun/Machine-Learning/blob/main/TF_IDF_Vectorizer.ipynb\" target=\"_parent\"><img src=\"https://colab.research.google.com/assets/colab-badge.svg\" alt=\"Open In Colab\"/></a>"
      ]
    },
    {
      "cell_type": "code",
      "source": [
        "import numpy as np\n",
        "from typing import List\n",
        "\n",
        "\n",
        "class TFIDFVectorizer:\n",
        "  def __init__(self, documents:str):\n",
        "    self.documents = documents\n",
        "    self.vocabs = self._build_vocabs(self.documents)\n",
        "    self.tf = np.zeros((len(documents), len(self.vocabs)))\n",
        "    self.idf = np.zeros((len(self.vocabs)))\n",
        "    self.token2index = {token: idx for idx, token in enumerate(self.vocabs)}\n",
        "\n",
        "  def _tokenize(self, text:str)->List[str]:\n",
        "    return text.lower().split()\n",
        "\n",
        "  def _build_vocabs(self, documents:List[str]):\n",
        "    vocabs = set()\n",
        "    for doc in documents:\n",
        "      tokens = self._tokenize(doc)\n",
        "      vocabs.update(tokens)\n",
        "    return vocabs\n",
        "\n",
        "  def _calculate_tf(self):\n",
        "    for doc_idx, doc in enumerate(self.documents):\n",
        "      tokens = self._tokenize(doc)\n",
        "      for token in tokens:\n",
        "        token_idx = self.token2index[token]\n",
        "        self.tf[doc_idx, token_idx] += 1\n",
        "\n",
        "      self.tf[doc_idx] = self.tf[doc_idx]/len(tokens)\n",
        "\n",
        "  def _calculate_idf(self):\n",
        "    n_documents = len(self.documents)\n",
        "    for token_idx, token in enumerate(self.vocabs):\n",
        "      doc_count = sum(token in self._tokenize(doc) for doc in self.documents)\n",
        "      self.idf[token_idx] = np.log(n_documents/(1+doc_count)) # Adding 1 to avoid division by zero\n",
        "\n",
        "  def tfidf(self):\n",
        "    self._calculate_tf()\n",
        "    self._calculate_idf()\n",
        "    return self.tf * self.idf\n",
        "\n",
        "\n",
        "s = [\"I have been playing football since I came here. I will go home very soon\"]\n",
        "obj = TFIDFVectorizer(s)\n",
        "print(list(obj.vocabs))\n",
        "print(obj.tfidf())"
      ],
      "metadata": {
        "colab": {
          "base_uri": "https://localhost:8080/"
        },
        "id": "EIncU6Du4u5h",
        "outputId": "94aecb20-f00d-4946-d9ea-81fb9d47c414"
      },
      "execution_count": 3,
      "outputs": [
        {
          "output_type": "stream",
          "name": "stdout",
          "text": [
            "['playing', 'have', 'very', 'been', 'will', 'here.', 'i', 'go', 'football', 'since', 'came', 'soon', 'home']\n",
            "[[-0.04620981 -0.04620981 -0.04620981 -0.04620981 -0.04620981 -0.04620981\n",
            "  -0.13862944 -0.04620981 -0.04620981 -0.04620981 -0.04620981 -0.04620981\n",
            "  -0.04620981]]\n"
          ]
        }
      ]
    }
  ]
}