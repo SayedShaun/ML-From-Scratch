{
  "nbformat": 4,
  "nbformat_minor": 0,
  "metadata": {
    "colab": {
      "provenance": [],
      "authorship_tag": "ABX9TyNoSk1p7HzVk0dBQZlraxj9",
      "include_colab_link": true
    },
    "kernelspec": {
      "name": "python3",
      "display_name": "Python 3"
    },
    "language_info": {
      "name": "python"
    }
  },
  "cells": [
    {
      "cell_type": "markdown",
      "metadata": {
        "id": "view-in-github",
        "colab_type": "text"
      },
      "source": [
        "<a href=\"https://colab.research.google.com/github/SayedShaun/Machine-Learning/blob/main/TF_IDF_Vectorizer.ipynb\" target=\"_parent\"><img src=\"https://colab.research.google.com/assets/colab-badge.svg\" alt=\"Open In Colab\"/></a>"
      ]
    },
    {
      "cell_type": "code",
      "source": [
        "import numpy as np\n",
        "import pandas as pd\n",
        "import zipfile\n",
        "from typing import List"
      ],
      "metadata": {
        "id": "1CIWPe0EKqhr"
      },
      "execution_count": 2,
      "outputs": []
    },
    {
      "cell_type": "code",
      "source": [
        "class TFIDFVectorizer:\n",
        "  def __init__(self, documents:str):\n",
        "    self.documents = documents\n",
        "    self.vocabs = self._build_vocabs(self.documents)\n",
        "    self.tf = np.zeros((len(documents), len(self.vocabs)))\n",
        "    self.idf = np.zeros((len(self.vocabs)))\n",
        "    self.token2index = {token: idx for idx, token in enumerate(self.vocabs)}\n",
        "\n",
        "  def _tokenize(self, text:str)->List[str]:\n",
        "    return text.lower().split()\n",
        "\n",
        "  def _build_vocabs(self, documents:List[str]):\n",
        "    vocabs = set()\n",
        "    for doc in documents:\n",
        "      tokens = self._tokenize(doc)\n",
        "      vocabs.update(tokens)\n",
        "    return vocabs\n",
        "\n",
        "  def _calculate_tf(self):\n",
        "    for doc_idx, doc in enumerate(self.documents):\n",
        "      tokens = self._tokenize(doc)\n",
        "      for token in tokens:\n",
        "        token_idx = self.token2index[token]\n",
        "        self.tf[doc_idx, token_idx] += 1\n",
        "\n",
        "      self.tf[doc_idx] = self.tf[doc_idx]/len(tokens)\n",
        "\n",
        "  def _calculate_idf(self):\n",
        "    n_documents = len(self.documents)\n",
        "    for token_idx, token in enumerate(self.vocabs):\n",
        "      doc_count = sum(token in self._tokenize(doc) for doc in self.documents)\n",
        "      self.idf[token_idx] = np.log(n_documents/(1+doc_count)) # Adding 1 to avoid division by zero\n",
        "\n",
        "  def tfidf(self):\n",
        "    self._calculate_tf()\n",
        "    self._calculate_idf()\n",
        "    return self.tf * self.idf\n",
        "\n",
        "\n",
        "s = [\"I am playing football since i came here. I will go to home very soon\"]\n",
        "obj = TFIDFVectorizer(s)\n",
        "print(list(obj.vocabs))\n",
        "print(obj.tfidf())"
      ],
      "metadata": {
        "colab": {
          "base_uri": "https://localhost:8080/"
        },
        "id": "EIncU6Du4u5h",
        "outputId": "59fc1054-b790-488b-ebb2-f777799cdb59"
      },
      "execution_count": 5,
      "outputs": [
        {
          "output_type": "stream",
          "name": "stdout",
          "text": [
            "['home', 'here.', 'am', 'i', 'to', 'will', 'since', 'came', 'football', 'go', 'very', 'soon', 'playing']\n",
            "[[-0.04620981 -0.04620981 -0.04620981 -0.13862944 -0.04620981 -0.04620981\n",
            "  -0.04620981 -0.04620981 -0.04620981 -0.04620981 -0.04620981 -0.04620981\n",
            "  -0.04620981]]\n"
          ]
        }
      ]
    }
  ]
}